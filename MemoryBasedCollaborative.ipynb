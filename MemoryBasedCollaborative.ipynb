{
 "cells": [
  {
   "cell_type": "code",
   "execution_count": 1,
   "metadata": {
    "collapsed": true
   },
   "outputs": [],
   "source": [
    "\n",
    "import numpy as np\n",
    "import pandas as pd\n",
    "import matplotlib.pyplot as plt\n",
    "\n",
    "from pyspark.ml import Pipeline\n",
    "from pyspark.sql.functions import *\n",
    "from pyspark.sql.types import *\n",
    "import pyspark\n",
    "\n",
    "from pyspark.sql import Row\n",
    "\n",
    "\n",
    "import folium\n",
    "import html\n",
    "import pandas as pd\n",
    "import numpy as np\n",
    "from sklearn.metrics.pairwise import pairwise_distances\n",
    "from __future__ import division\n",
    "import time"
   ]
  },
  {
   "cell_type": "code",
   "execution_count": 5,
   "metadata": {
    "collapsed": true
   },
   "outputs": [],
   "source": [
    "import pandas as pd"
   ]
  },
  {
   "cell_type": "code",
   "execution_count": 2,
   "metadata": {
    "collapsed": true
   },
   "outputs": [],
   "source": [
    "#path\n",
    "\n",
    "data = '/Users/jerrygeorge/Desktop/finalproj/data/'\n",
    "model = '/Users/jerrygeorge/Desktop/finalproj/model/'\n",
    "output = '/Users/jerrygeorge/Desktop/finalproj/output/'"
   ]
  },
  {
   "cell_type": "code",
   "execution_count": 3,
   "metadata": {
    "collapsed": true
   },
   "outputs": [],
   "source": [
    "#load the dataset to spark\n",
    "\n",
    "business_df = spark.read.parquet(data + 'business-small.parquet')\n",
    "user_df = spark.read.parquet(data + 'user-small.parquet')\n",
    "review_df = spark.read.parquet(data + 'review-small.parquet')"
   ]
  },
  {
   "cell_type": "code",
   "execution_count": 4,
   "metadata": {
    "collapsed": true
   },
   "outputs": [],
   "source": [
    "review=review_df.toPandas()\n",
    "business=business_df.toPandas()"
   ]
  },
  {
   "cell_type": "code",
   "execution_count": 6,
   "metadata": {
    "collapsed": true
   },
   "outputs": [],
   "source": [
    "rest_t = business\n",
    "\n",
    "# Join restaurants\n",
    "review_tor = pd.merge(rest_t, review, on='business_id', how='left')\n",
    "\n",
    "uL = review_tor[['user_id','business_id','stars_y']]\n",
    "\n",
    "# Indexing\n",
    "u_index = uL.user_id.unique()\n",
    "i_index = uL.business_id.unique()\n",
    "\n",
    "# Count unique users and restaurants\n",
    "u_users = uL.user_id.unique().shape[0]\n",
    "u_items = uL.business_id.unique().shape[0]"
   ]
  },
  {
   "cell_type": "code",
   "execution_count": 7,
   "metadata": {
    "collapsed": true
   },
   "outputs": [],
   "source": [
    "# Train Test 70/30\n",
    "from sklearn.model_selection import train_test_split\n",
    "train, test = train_test_split(uL, test_size=0.30, random_state=122)\n",
    "\n",
    "tr_m = pd.DataFrame(index=u_index, columns=i_index)\n",
    "\n",
    "for row in train.itertuples():\n",
    "    user = row[1]\n",
    "    item = row[2]\n",
    "    tr_m.loc[user][item] = row[3]  \n",
    "\n",
    "test_m = pd.DataFrame(index=u_index, columns=i_index)\n",
    "\n",
    "for row in test.itertuples():\n",
    "    user = row[1]\n",
    "    item = row[2]\n",
    "    test_m.loc[user][item] = row[3]\n",
    "\n",
    "it1 = train_matrix.apply(lambda x: x > 0, raw=True).sum(axis=1)\n",
    "\n",
    "# users with >5 items\n",
    "train1 = tr_m\n",
    "train1['item_1'] = it1\n",
    "train2 = train1.loc[train1['item_1'] >= 5]\n",
    "\n",
    "train2 = train2.drop('item_1',axis=1)\n",
    "train3 = train2.transpose()\n",
    "user_1 = train3.apply(lambda x: x > 0, raw=True).sum(axis=1)\n",
    "\n",
    "# items with >5 items\n",
    "train3['user_1'] = user_1\n",
    "train4 = train3.loc[train3['user_1'] >= 5]\n",
    "train4 = train4.drop('user_1',axis=1)\n",
    "train5 = train4.transpose()\n",
    "\n",
    "it2 = train5.apply(lambda x: x > 0, raw=True).sum(axis=1)\n",
    "\n",
    "train5['item_2'] = it2\n",
    "train6 = train5.loc[train5['item_2'] >= 5]\n",
    "train6 = train6.drop('item_2',axis=1)\n",
    "train7 = train6.transpose()\n",
    "u2 = train7.apply(lambda x: x > 0, raw=True).sum(axis=1)\n",
    "train7['user_2'] = u2\n",
    "train8 = train7.loc[train7['user_2'] >= 5]\n",
    "train8 = train8.drop('user_2',axis=1)\n",
    "train9 = train8.transpose()\n",
    "\n",
    "it3 = train9.apply(lambda x: x > 0, raw=True).sum(axis=1)\n",
    "u3 = train9.apply(lambda x: x > 0, raw=True).sum(axis=1)\n",
    "\n",
    "test9 = test_matrix.loc[train9.index,train9.columns]\n"
   ]
  },
  {
   "cell_type": "code",
   "execution_count": 8,
   "metadata": {
    "collapsed": true
   },
   "outputs": [],
   "source": [
    "def cb(train, test, sim, type='user', knn=5):\n",
    "\n",
    "    train_0 = train.fillna(0)\n",
    "    test_0 = test.fillna(0)\n",
    "\n",
    "    \n",
    "    if sim == 'cosine':\n",
    "        udist = pdist(train_0, metric='cosine')\n",
    "        idist = pdist(train_0.T, metric='cosine')\n",
    "\n",
    "    elif sim == 'pearson':\n",
    "        udist = pdist(train_0, metric='correlation')\n",
    "        idist = pdist(train_0.T, metric='correlation')\n",
    "        \n",
    "    usim = 1 - udist\n",
    "    isim = 1 - idsit\n",
    " \n",
    "    mr = train.mean(axis=1)\n",
    "    mur = pd.concat([mr] * len(train.columns), axis=1)\n",
    "    mur.columns = train.columns\n",
    "    \n",
    "    \n",
    "    mur1 = mur\n",
    "    mur1[train_0 == 0] = 0\n",
    "    \n",
    "    # Normalize Ratings\n",
    "    rd = train_0 - mur1\n",
    "    \n",
    "    # Create Dataframe\n",
    "    murf = pd.concat([mr] * len(train.columns), axis=1)\n",
    "    murf.columns = train.columns\n",
    "    \n",
    "    pred = pd.DataFrame(index=train.index, columns=train.columns)\n",
    "    \n",
    "    # User-User Collaborative Filtering\n",
    "    if type == 'user':    \n",
    "        usim = pd.DataFrame(usim, index=train.index, columns=train.index)\n",
    "        \n",
    "        if knn != 'all':\n",
    "            usimm = usim.as_matrix()\n",
    "        \n",
    "            cols = test.columns\n",
    "            test_rated = test.apply(lambda x: x > 0, raw=True).apply(lambda x: list(cols[x.values]), axis=1)\n",
    "            \n",
    "            for m in range(len(usim)):\n",
    "                temp = usimm[m]\n",
    "                temp = pd.DataFrame(temp,index=train.index, columns=['similarity'])\n",
    "                temp['rank'] = temp['similarity'].rank(ascending=0)\n",
    "                \n",
    "                for n in range(len(test_rated[m])):\n",
    "                    temp2 = rd[[test_rated[m][n]]]\n",
    "                    temp2.columns = ['rating']\n",
    "                    # Join similarity, rank, rating \n",
    "                    result = pd.concat([temp, temp2], axis=1)    \n",
    "                    result2 = result[result['rating'] != 0]\n",
    "                    result3 = result2.nsmallest(int(knn), 'rank')\n",
    "                \n",
    "                   #Divide weighted sum by sum of similarities\n",
    "                    score = result3['similarity'].dot(result3['rating'])/result3['similarity'].sum()\n",
    "                    mean = murf.loc[train.index[m]][test_rated[m][n]]\n",
    "                \n",
    "                    # Make a prediction\n",
    "                    pred.loc[train.index[m]][test_rated[m][n]] = mean + score\n",
    "                    \n",
    "            \n",
    "        elif knn == 'all':  \n",
    "            \n",
    "            nu = usim.dot(rd)\n",
    "            \n",
    "            ssu = usim.sum(axis=1)\n",
    "            ssmu = pd.concat([ssu] * len(train.columns), axis=1)\n",
    "            ssmu.columns = train.columns\n",
    "\n",
    "           \n",
    "            pred = murf + nu / ssmu\n",
    "                \n",
    "    # Item-Item Collaborative Filtering  \n",
    "    elif type == 'item':\n",
    "        \n",
    "        isim = pd.DataFrame(isim, index=train.columns, columns=train.columns)\n",
    "        \n",
    "        if knn != 'all':\n",
    "            isimm = isim.as_matrix()\n",
    "\n",
    "            cols2 = test.T.columns\n",
    "            test_rated2 = test.T.apply(lambda x: x > 0, raw=True).apply(lambda x: list(cols2[x.values]), axis=1)\n",
    "        \n",
    "            for m in range(len(isim)):\n",
    "                temp = isimm[m]\n",
    "                temp = pd.DataFrame(temp,index=train.columns, columns=['similarity'])\n",
    "                temp['rank'] = temp['similarity'].rank(ascending=0)\n",
    "\n",
    "                for n in range(len(test_rated2[m])):\n",
    "                    temp2 = rd.T[[test_rated2[m][n]]]\n",
    "                    temp2.columns = ['rating']\n",
    "                    result = pd.concat([temp, temp2], axis=1)    \n",
    "                    result2 = result[result['rating'] != 0]\n",
    "                    result3 = result2.nsmallest(int(knn), 'rank')\n",
    "                \n",
    "                  #Divide Weighted sum by sum of similarity\n",
    "                    score = result3['similarity'].dot(result3['rating'])/result3['similarity'].sum()\n",
    "                    mean = murf.loc[test_rated2[m][n]][train.columns[m]]\n",
    "                \n",
    "                    pred.loc[test_rated2[m][n]][train.columns[m]] = mean + score\n",
    "        \n",
    "      \n",
    "        elif knn == 'all':\n",
    "            \n",
    "            ni = rd.dot(item_sim)\n",
    "\n",
    "            ssi = isim.sum(axis=1)\n",
    "            ssi = pd.DataFrame(ssi, index=train.columns)\n",
    "            ssmi = pd.concat([ssi.T] * len(train), axis=0)\n",
    "\n",
    "            ssmi.index = train.index\n",
    "\n",
    "            pred = murf + ni / ssmi\n",
    "            \n",
    "    pred_0 = pred.fillna(0)\n",
    "    pred_0_mat = pred_0.as_matrix()            \n",
    "    return pred_0_mat"
   ]
  },
  {
   "cell_type": "code",
   "execution_count": 9,
   "metadata": {
    "collapsed": true
   },
   "outputs": [],
   "source": [
    "test9_0 = test9.fillna(0)\n",
    "test9_0_mat = test9_0.as_matrix()\n"
   ]
  },
  {
   "cell_type": "code",
   "execution_count": 30,
   "metadata": {},
   "outputs": [
    {
     "name": "stderr",
     "output_type": "stream",
     "text": [
      "/Users/jerrygeorge/anaconda3/lib/python3.6/site-packages/ipykernel_launcher.py:76: RuntimeWarning: invalid value encountered in double_scalars\n",
      "/Users/jerrygeorge/anaconda3/lib/python3.6/site-packages/ipykernel_launcher.py:136: RuntimeWarning: invalid value encountered in double_scalars\n"
     ]
    },
    {
     "name": "stdout",
     "output_type": "stream",
     "text": [
      "8 Runs of Collaborative Filtering for Restaurant in Toronto took 1328.1972260475159 seconds\n"
     ]
    }
   ],
   "source": [
    "st = time.time()\n",
    "p5 = cb(train9, test9, sim='cosine', type='user', knn='5')\n",
    "p10 = cb(train9, test9, sim='cosine', type='user', knn='10')\n",
    "p30 = cb(train9, test9, sim='cosine', type='user', knn='30')\n",
    "pall = cb(train9, test9, sim='cosine', type='user', knn='all')\n",
    "pi5 = cb(train9, test9, sim='cosine', type='item', knn='5')\n",
    "pi10 = cb(train9, test9, sim='cosine', type='item', knn='10')\n",
    "pi30 = cb(train9, test9, sim='cosine', type='item', knn='30')\n",
    "piall = cb(train9, test9, sim='cosine', type='item', knn='all')\n",
    "print ('8 Runs of Collaborative Filtering for Restaurant in Toronto took %s seconds' % (time.time() - st))"
   ]
  },
  {
   "cell_type": "code",
   "execution_count": 11,
   "metadata": {},
   "outputs": [
    {
     "name": "stdout",
     "output_type": "stream",
     "text": [
      "4 Runs of Collaborative Filtering for Restaurant in Toronto took 1019.102697134018 seconds\n"
     ]
    }
   ],
   "source": [
    "st = time.time()\n",
    "puc = cb(train9, test9, sim='cosine', type='user', knn='all')\n",
    "pup = collaborative_filtering(train9, test9, sim='pearson', type='user', knn='all')\n",
    "ptc = collaborative_filtering(train9, test9, sim='cosine', type='item', knn='all')\n",
    "ptp = collaborative_filtering(train9, test9, sim='pearson', type='item', knn='all')\n",
    "print ('4 Runs of Collaborative Filtering for Restaurant in Toronto took %s seconds' % (time.time() - st))"
   ]
  },
  {
   "cell_type": "code",
   "execution_count": 10,
   "metadata": {
    "collapsed": true
   },
   "outputs": [],
   "source": [
    "from sklearn.metrics import mean_absolute_error\n",
    "def mae(prediction, actual):\n",
    "    prediction = prediction[actual.nonzero()].flatten() \n",
    "    actual = actual[actual.nonzero()].flatten()\n",
    "    return mean_absolute_error(prediction, actual)"
   ]
  },
  {
   "cell_type": "code",
   "execution_count": 25,
   "metadata": {},
   "outputs": [
    {
     "name": "stdout",
     "output_type": "stream",
     "text": [
      "User-based CF using Cosine Similarity MAE: 0.870475466574\n",
      "User-based CF using Pearson Correlation MAE: 0.88131123966\n",
      "Item-based CF using Cosine Similarity MAE: 0.872175443685\n",
      "Item-based CF using Pearson Correlation MAE: 0.872637285628\n"
     ]
    }
   ],
   "source": [
    "print ('User-based CF using Cosine Similarity MAE: ' + str(mae(puc, test9_0_mat)))\n",
    "print ('User-based CF using Pearson Correlation MAE: ' + str(mae(pup, test9_0_mat)))\n",
    "print ('Item-based CF using Cosine Similarity MAE: ' + str(mae(pic, test9_0_mat)))\n",
    "print ('Item-based CF using Pearson Correlation MAE: ' + str(mae(pip, test9_0_mat)))"
   ]
  }
 ],
 "metadata": {
  "kernelspec": {
   "display_name": "Python 3",
   "language": "python",
   "name": "python3"
  },
  "language_info": {
   "codemirror_mode": {
    "name": "ipython",
    "version": 3
   },
   "file_extension": ".py",
   "mimetype": "text/x-python",
   "name": "python",
   "nbconvert_exporter": "python",
   "pygments_lexer": "ipython3",
   "version": "3.6.3"
  }
 },
 "nbformat": 4,
 "nbformat_minor": 2
}
