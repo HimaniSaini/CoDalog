{
 "cells": [
  {
   "cell_type": "code",
   "execution_count": 1,
   "metadata": {
    "collapsed": true
   },
   "outputs": [],
   "source": [
    "import numpy as np\n",
    "import pandas as pd\n",
    "\n",
    "from operator import add\n",
    "from pyspark.ml.feature import RegexTokenizer, CountVectorizer\n",
    "from pyspark.ml.feature import StopWordsRemover, VectorAssembler\n",
    "from pyspark.ml.feature import Word2Vec, Word2VecModel\n",
    "from pyspark.ml.feature import IDF\n",
    "\n",
    "from pyspark.ml import Pipeline, PipelineModel\n",
    "\n",
    "\n",
    "from pyspark.sql.functions import *\n",
    "\n",
    "from pyspark.sql.types import *\n",
    "\n",
    "import folium\n",
    "import html\n"
   ]
  },
  {
   "cell_type": "code",
   "execution_count": 2,
   "metadata": {
    "collapsed": true
   },
   "outputs": [],
   "source": [
    "#path\n",
    "\n",
    "data = '/Users/jerrygeorge/Desktop/finalproj/data/'\n",
    "model = '/Users/jerrygeorge/Desktop/finalproj/model/'\n",
    "output = '/Users/jerrygeorge/Desktop/finalproj/output/'"
   ]
  },
  {
   "cell_type": "code",
   "execution_count": 3,
   "metadata": {
    "collapsed": true
   },
   "outputs": [],
   "source": [
    "#load the dataset to spark\n",
    "\n",
    "business_df = spark.read.parquet(data + 'business-small.parquet')\n",
    "user_df = spark.read.parquet(data + 'user-small.parquet')\n",
    "review_df = spark.read.parquet(data + 'review-small.parquet')"
   ]
  },
  {
   "cell_type": "code",
   "execution_count": 4,
   "metadata": {
    "collapsed": true
   },
   "outputs": [],
   "source": [
    "business_df.createOrReplaceTempView(\"businesses\")\n",
    "user_df.createOrReplaceTempView(\"users\")\n",
    "review_df.createOrReplaceTempView(\"reviews\")"
   ]
  },
  {
   "cell_type": "code",
   "execution_count": 5,
   "metadata": {
    "collapsed": true
   },
   "outputs": [],
   "source": [
    "reviews_text = spark.sql(\"SELECT user_id, review_text FROM reviews\")\n",
    "reviews_text1 = spark.sql(\"SELECT business_id, review_text FROM reviews\")\n"
   ]
  },
  {
   "cell_type": "code",
   "execution_count": 7,
   "metadata": {},
   "outputs": [
    {
     "data": {
      "text/plain": [
       "73041"
      ]
     },
     "execution_count": 7,
     "metadata": {},
     "output_type": "execute_result"
    }
   ],
   "source": [
    "#user Reviews\n",
    "reviews_text_rdd = reviews_text.rdd\n",
    "reviews_by_user_rdd = reviews_text_rdd.map(tuple).reduceByKey(add)  \n",
    "reviews_by_user_df = spark.createDataFrame(reviews_by_user_rdd)\n",
    "reviews_by_user_df = reviews_by_user_df \\\n",
    "                            .withColumnRenamed('_1', 'user_id') \\\n",
    "                            .withColumnRenamed('_2', 'text')\n",
    "reviews_by_user_df.count()"
   ]
  },
  {
   "cell_type": "code",
   "execution_count": 8,
   "metadata": {},
   "outputs": [
    {
     "data": {
      "text/plain": [
       "7148"
      ]
     },
     "execution_count": 8,
     "metadata": {},
     "output_type": "execute_result"
    }
   ],
   "source": [
    "#business Reviews\n",
    "\n",
    "reviews_text_rdd = reviews_text1.rdd\n",
    "reviews_by_business_rdd = reviews_text_rdd.map(tuple).reduceByKey(add)  \n",
    "reviews_by_business_df = spark.createDataFrame(reviews_by_business_rdd)\n",
    "reviews_by_business_df = reviews_by_business_df \\\n",
    "                            .withColumnRenamed('_1', 'business_id') \\\n",
    "                            .withColumnRenamed('_2', 'text')\n",
    "reviews_by_business_df.count()"
   ]
  },
  {
   "cell_type": "code",
   "execution_count": 43,
   "metadata": {
    "collapsed": true
   },
   "outputs": [],
   "source": [
    "\n",
    "\n",
    "# Build the pipeline \n",
    "regexTokenizer = RegexTokenizer(gaps = False, pattern = '\\w+', inputCol = 'text', outputCol = 'token')\n",
    "stopWordsRemover = StopWordsRemover(inputCol = 'token', outputCol = 'nostopwrd')\n",
    "countVectorizer = CountVectorizer(inputCol=\"nostopwrd\", outputCol=\"rawFeature\")\n",
    "iDF = IDF(inputCol=\"rawFeature\", outputCol=\"idf_vec\")\n",
    "word2Vec = Word2Vec(vectorSize = 100, minCount = 5, inputCol = 'nostopwrd', outputCol = 'word_vec', seed=123)\n",
    "vectorAssembler = VectorAssembler(inputCols=['idf_vec', 'word_vec'], outputCol='comb_vec')\n",
    "pipeline = Pipeline(stages=[regexTokenizer, stopWordsRemover, countVectorizer, iDF, word2Vec, vectorAssembler])\n",
    "\n",
    "# fit the model\n",
    "pipeline_mdl = pipeline.fit(reviews_by_business_df)\n",
    "pipeline_mdl1 = pipeline.fit(reviews_by_user_df)"
   ]
  },
  {
   "cell_type": "code",
   "execution_count": 44,
   "metadata": {
    "collapsed": true
   },
   "outputs": [],
   "source": [
    "pipeline_mdl.write().overwrite().save(model + 'bmn')"
   ]
  },
  {
   "cell_type": "code",
   "execution_count": 10,
   "metadata": {
    "collapsed": true
   },
   "outputs": [],
   "source": [
    "pipeline_mdl.write().overwrite().save(model + 'kmn')"
   ]
  },
  {
   "cell_type": "code",
   "execution_count": 9,
   "metadata": {
    "collapsed": true
   },
   "outputs": [],
   "source": [
    "pipeline_mdl = PipelineModel.load(model + 'bmn')\n",
    "pipeline_mdl1 = PipelineModel.load(model + 'kmn')"
   ]
  },
  {
   "cell_type": "code",
   "execution_count": 10,
   "metadata": {
    "collapsed": true
   },
   "outputs": [],
   "source": [
    "reviews_by_business_trf_df = pipeline_mdl.transform(reviews_by_business_df)\n",
    "all_business_vecs = reviews_by_business_trf_df.select('business_id', 'word_vec').rdd.map(lambda x: (x[0], x[1])).collect()"
   ]
  },
  {
   "cell_type": "code",
   "execution_count": 11,
   "metadata": {
    "collapsed": true
   },
   "outputs": [],
   "source": [
    "reviews_by_user_trf_df = pipeline_mdl1.transform(reviews_by_user_df)\n",
    "all_user_vecs = reviews_by_user_trf_df.select('user_id', 'word_vec').rdd.map(lambda x: (x[0], x[1])).collect()"
   ]
  },
  {
   "cell_type": "code",
   "execution_count": 17,
   "metadata": {
    "collapsed": true
   },
   "outputs": [],
   "source": [
    "df=reviews_by_user_trf_df.select('user_id', 'word_vec')\n",
    "df1=reviews_by_business_trf_df.select('business_id', 'word_vec')"
   ]
  },
  {
   "cell_type": "code",
   "execution_count": 18,
   "metadata": {},
   "outputs": [
    {
     "name": "stdout",
     "output_type": "stream",
     "text": [
      "K = 5  Error = 12802.347581913407\n",
      "K = 10  Error = 11887.354837578136\n",
      "K = 20  Error = 11119.188117519327\n",
      "K = 40  Error = 10256.735516459115\n",
      "K = 60  Error = 9822.806304125636\n",
      "K = 100  Error = 9324.91252053553\n",
      "K = 200  Error = 8737.054560978304\n",
      "K = 500  Error = 8013.783930887123\n",
      "K = 1000  Error = 7490.742202247959\n"
     ]
    }
   ],
   "source": [
    "#clustering on User Reviews\n",
    "from pyspark.ml.clustering import KMeans\n",
    "\n",
    "\n",
    "for i in [5,10,20,40,60,100,200,500,1000]:\n",
    "    k_means = KMeans(featuresCol='word_vec', k=i)\n",
    "    model_k2 = k_means.fit(df)\n",
    "    wssse = model_k2.computeCost(df)\n",
    "    print(\"K =\",i,\" Error = \" + str(wssse))\n",
    "    md1=model_k2.transform(reviews_by_business_trf_df)\n",
    "    cd1=model_k2.transform(df).groupBy('prediction')\n",
    "    "
   ]
  },
  {
   "cell_type": "code",
   "execution_count": 19,
   "metadata": {},
   "outputs": [
    {
     "name": "stdout",
     "output_type": "stream",
     "text": [
      "K = 5  Error = 334.72580562117344\n",
      "K = 10  Error = 281.796801316916\n",
      "K = 20  Error = 240.84834948249204\n",
      "K = 40  Error = 208.03118329668746\n",
      "K = 60  Error = 193.7375857201574\n",
      "K = 100  Error = 176.12536853593758\n",
      "K = 200  Error = 155.9337213778811\n",
      "K = 500  Error = 129.8862568218172\n",
      "K = 1000  Error = 105.03756355436978\n"
     ]
    }
   ],
   "source": [
    "#clustering on Business Reviews\n",
    "\n",
    "for i in [5,10,20,40,60,100,200,500,1000]:\n",
    "    k_means = KMeans(featuresCol='word_vec', k=i)\n",
    "    model_k2 = k_means.fit(df1)\n",
    "    wssse = model_k2.computeCost(df1)\n",
    "    print(\"K =\",i,\" Error = \" + str(wssse))\n",
    "    md=model_k2.transform(reviews_by_user_trf_df)\n",
    "    cd=model_k2.transform(df1).groupBy('prediction')\n",
    "    "
   ]
  },
  {
   "cell_type": "code",
   "execution_count": 27,
   "metadata": {},
   "outputs": [
    {
     "name": "stdout",
     "output_type": "stream",
     "text": [
      "+--------------------+--------------------+----------+\n",
      "|         business_id|            word_vec|prediction|\n",
      "+--------------------+--------------------+----------+\n",
      "|5r6-G9C4YLbC7Ziz5...|[0.08240829653115...|        78|\n",
      "|z8oIoCT1cXz7gZP5G...|[0.07068449387273...|        95|\n",
      "|XWTPNfskXoUL-Lf32...|[0.07005708263746...|        56|\n",
      "|oWTn2IzrprsRkPfUL...|[0.07971497538309...|        42|\n",
      "|28adZ4lsuUeVB2aWz...|[0.08529358667228...|        37|\n",
      "|Xy74meQwdTnloAAyR...|[0.07789672117561...|        47|\n",
      "|4_GIJk0tX3k0x0FcU...|[0.13063595783159...|        74|\n",
      "|0-yj2jtzLUHG2b7Pp...|[0.10097199339370...|        70|\n",
      "|Tn8O4tv1U-n0PRC8k...|[0.13260006795403...|        35|\n",
      "|vyeQzjZFx6KoL2pJB...|[0.08210715715551...|        87|\n",
      "|D2PmpZYRdRnzL7q4W...|[0.10713880017141...|         9|\n",
      "|7Uti5EeAwm3drG14K...|[0.08812031351261...|         3|\n",
      "|3RlylOY452bA8rwli...|[0.08965089654908...|        90|\n",
      "|lRwpFFaFr3QQ5fGHk...|[0.08738266912594...|        27|\n",
      "|IBZ6e3P0OqcPXVjvG...|[0.07212599243266...|        12|\n",
      "|rdn0vLw8Ln5_PBwRc...|[0.11051343097587...|        64|\n",
      "|1jNteKQ2JuF6Sk1SI...|[0.09168054665128...|        28|\n",
      "|oqJe5o_4J0xkhvTST...|[0.08290806635310...|        96|\n",
      "|yaViddk9vxi-7p8Dn...|[0.09026848737547...|        27|\n",
      "|kKNauD7d3HOvumRV7...|[0.10704153362173...|        17|\n",
      "+--------------------+--------------------+----------+\n",
      "only showing top 20 rows\n",
      "\n"
     ]
    }
   ],
   "source": [
    "#clustered business with clusters (100)\n",
    "cd.show()"
   ]
  }
 ],
 "metadata": {
  "kernelspec": {
   "display_name": "Python 3",
   "language": "python",
   "name": "python3"
  },
  "language_info": {
   "codemirror_mode": {
    "name": "ipython",
    "version": 3
   },
   "file_extension": ".py",
   "mimetype": "text/x-python",
   "name": "python",
   "nbconvert_exporter": "python",
   "pygments_lexer": "ipython3",
   "version": "3.6.3"
  }
 },
 "nbformat": 4,
 "nbformat_minor": 2
}
