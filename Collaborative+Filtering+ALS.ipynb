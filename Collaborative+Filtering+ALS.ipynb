{
 "cells": [
  {
   "cell_type": "code",
   "execution_count": 1,
   "metadata": {
    "collapsed": true
   },
   "outputs": [],
   "source": [
    "\n",
    "import numpy as np\n",
    "import pandas as pd\n",
    "import matplotlib.pyplot as plt\n",
    "\n",
    "from pyspark.ml import Pipeline\n",
    "from pyspark.sql.functions import *\n",
    "from pyspark.sql.types import *\n",
    "import pyspark\n",
    "\n",
    "from pyspark.sql import Row\n",
    "\n",
    "from pyspark.ml.recommendation import ALS, ALSModel\n",
    "from pyspark.ml.tuning import TrainValidationSplit, ParamGridBuilder, CrossValidator\n",
    "from pyspark.ml.evaluation import RegressionEvaluator"
   ]
  },
  {
   "cell_type": "code",
   "execution_count": 2,
   "metadata": {
    "collapsed": true
   },
   "outputs": [],
   "source": [
    "#path\n",
    "\n",
    "data = '/Users/jerrygeorge/Desktop/finalproj/data/'\n",
    "model = '/Users/jerrygeorge/Desktop/finalproj/model/'\n",
    "output = '/Users/jerrygeorge/Desktop/finalproj/output/'"
   ]
  },
  {
   "cell_type": "code",
   "execution_count": 4,
   "metadata": {
    "collapsed": true
   },
   "outputs": [],
   "source": [
    "#load the dataset to spark\n",
    "\n",
    "bus_df = spark.read.parquet(data + 'business.parquet')\n",
    "user_df = spark.read.parquet(data + 'users.parquet')\n",
    "rev_df = spark.read.parquet(data + '1.parquet',data +'2.parquet',data +'3.parquet',data +'4.parquet',data +'5.parquet')"
   ]
  },
  {
   "cell_type": "code",
   "execution_count": null,
   "metadata": {
    "collapsed": true
   },
   "outputs": [],
   "source": [
    "# Convert User id to Integer Type\n",
    "\n",
    "user_df1 = sqlContext.createDataFrame(user_df.rdd.map(lambda x: x[0]).zipWithIndex(), \\\n",
    "        StructType([StructField(\"user_id\", StringType(), True),StructField(\"userId\", IntegerType(), True)]))\n",
    "\n"
   ]
  },
  {
   "cell_type": "code",
   "execution_count": 6,
   "metadata": {},
   "outputs": [
    {
     "name": "stdout",
     "output_type": "stream",
     "text": [
      "+------+--------------------+---------+\n",
      "|userId|             user_id|user_name|\n",
      "+------+--------------------+---------+\n",
      "|740469|-0Ji0nOyFe-4yo8BK...|     cubs|\n",
      "|651612|-1KKYzibGPyUX-Mwk...|   Nickie|\n",
      "+------+--------------------+---------+\n",
      "only showing top 2 rows\n",
      "\n"
     ]
    }
   ],
   "source": [
    "#Join User Id to the table\n",
    "\n",
    "a = user_df.alias(\"a\")\n",
    "b = user_df1.alias(\"b\")\n",
    "    \n",
    "user_df2 = a.join(b, col(\"a.user_id\") == col(\"b.user_id\"), 'inner') \\\n",
    "             .select([col('a.'+xx) for xx in a.columns] + [col('b.userId')])\n",
    "\n",
    "user_df2.select('userId','user_id', 'user_name').show(2)"
   ]
  },
  {
   "cell_type": "code",
   "execution_count": 7,
   "metadata": {},
   "outputs": [
    {
     "name": "stdout",
     "output_type": "stream",
     "text": [
      "+--------------------+----------+\n",
      "|         business_id|businessId|\n",
      "+--------------------+----------+\n",
      "|PfOCPjBrlQAnz__NX...|         0|\n",
      "|o9eMRCWt5PkpLDE0g...|         1|\n",
      "+--------------------+----------+\n",
      "only showing top 2 rows\n",
      "\n"
     ]
    }
   ],
   "source": [
    "\n",
    "# Convert Business id to Integer Type\n",
    "\n",
    "business_df = sqlContext.createDataFrame(bus_df.rdd.map(lambda x: x[0]).zipWithIndex(), \\\n",
    "        StructType([StructField(\"business_id\", StringType(), True),StructField(\"businessId\", IntegerType(), True)]))\n",
    "\n",
    "business_df.show(2)"
   ]
  },
  {
   "cell_type": "code",
   "execution_count": 8,
   "metadata": {},
   "outputs": [
    {
     "name": "stdout",
     "output_type": "stream",
     "text": [
      "+----------+--------------------+--------------------+\n",
      "|businessId|         business_id|       business_name|\n",
      "+----------+--------------------+--------------------+\n",
      "|         0|PfOCPjBrlQAnz__NX...|Brick House Taver...|\n",
      "|         1|o9eMRCWt5PkpLDE0g...|             Messina|\n",
      "+----------+--------------------+--------------------+\n",
      "only showing top 2 rows\n",
      "\n"
     ]
    }
   ],
   "source": [
    "#Join Business Id to the table\n",
    "\n",
    "a = bus_df.alias(\"a\")\n",
    "b = business_df.alias(\"b\")\n",
    "    \n",
    "business_df2 = a.join(b, col(\"a.business_id\") == col(\"b.business_id\"), 'inner') \\\n",
    "             .select([col('a.'+xx) for xx in a.columns] + [col('b.businessId')])\n",
    "\n",
    "business_df2.select('businessId','business_id', 'business_name').show(2)"
   ]
  },
  {
   "cell_type": "code",
   "execution_count": 9,
   "metadata": {},
   "outputs": [
    {
     "name": "stdout",
     "output_type": "stream",
     "text": [
      "+--------------------+--------------------+-----+------+----------+\n",
      "|             user_id|         business_id|stars|userId|businessId|\n",
      "+--------------------+--------------------+-----+------+----------+\n",
      "|0y8ORuC2X1i1UF6SG...|--9e1ONYQuAa-CB_R...|    5|598220|     28361|\n",
      "|9spixZHaqC1JeN1ld...|--9e1ONYQuAa-CB_R...|    2|203254|     28361|\n",
      "+--------------------+--------------------+-----+------+----------+\n",
      "only showing top 2 rows\n",
      "\n"
     ]
    }
   ],
   "source": [
    "# Join User Id, Business Id with the review data\n",
    "\n",
    "review_df = rev_df.select('user_id', 'business_id', 'stars')\n",
    "\n",
    "\n",
    "a = review_df.alias(\"a\")\n",
    "b = user_df1.alias(\"b\")\n",
    "    \n",
    "rev_us = a.join(b, col(\"a.user_id\") == col(\"b.user_id\"), 'inner') \\\n",
    "                     .select([col('a.'+xx) for xx in a.columns] + [col('b.userId')])\n",
    "\n",
    "a = rev_us.alias(\"a\")\n",
    "b = business_df.alias(\"b\")\n",
    "\n",
    "rev_usb = a.join(b, col(\"a.business_id\") == col(\"b.business_id\"), 'inner') \\\n",
    "                         .select([col('a.'+xx) for xx in a.columns] + [col('b.businessId')])\n",
    "\n",
    "rev_usb.show(2)"
   ]
  },
  {
   "cell_type": "code",
   "execution_count": 10,
   "metadata": {},
   "outputs": [
    {
     "name": "stdout",
     "output_type": "stream",
     "text": [
      "+------+----------+------+\n",
      "|userId|businessId|rating|\n",
      "+------+----------+------+\n",
      "|598220|     28361|   5.0|\n",
      "|203254|     28361|   2.0|\n",
      "+------+----------+------+\n",
      "only showing top 2 rows\n",
      "\n",
      " Rating matrx no. of rows : 3221419\n",
      "root\n",
      " |-- userId: integer (nullable = true)\n",
      " |-- businessId: integer (nullable = true)\n",
      " |-- rating: float (nullable = true)\n",
      "\n"
     ]
    }
   ],
   "source": [
    "#Rating Matirx\n",
    "\n",
    "rat_df = rev_us.select('userId', 'businessId', rev_usb.stars.cast('float').alias('rating'))\n",
    "rat_df.show(2)\n",
    "print(' Rating matrx no. of rows :', rat_df.count())\n",
    "rat_df.printSchema()"
   ]
  },
  {
   "cell_type": "code",
   "execution_count": 12,
   "metadata": {
    "collapsed": true
   },
   "outputs": [],
   "source": [
    "(train, test) = rating_df.randomSplit([0.8, 0.2], seed=123)\n"
   ]
  },
  {
   "cell_type": "code",
   "execution_count": null,
   "metadata": {
    "collapsed": true
   },
   "outputs": [],
   "source": [
    "\n",
    "als = ALS(userCol=\"userId\", itemCol=\"businessId\", ratingCol=\"rating\", coldStartStrategy=\"drop\")\n",
    "\n",
    "pg = ParamGridBuilder().addGrid(\n",
    "    als.rank,\n",
    "    [10,15,16,18,20],\n",
    ").addGrid(\n",
    "    als.maxIter,\n",
    "    [10,15,16,18,20],\n",
    ").build()\n",
    "\n",
    "evaluator = RegressionEvaluator(\n",
    "    metricName=\"rmse\",\n",
    "    labelCol=\"rating\",\n",
    ")\n",
    "\n",
    "cv = CrossValidator(estimator=als, estimatorParamMaps=pg, evaluator=evaluator, numFolds=10, seed=123)\n",
    "cvm = cv.fit(train)\n",
    "\n",
    "#Rmse\n",
    "predi = cvm.bestModel.transform(test)\n",
    "evaluator = RegressionEvaluator(metricName=\"rmse\", labelCol=\"rating\", predictionCol=\"prediction\")\n",
    "rmse = evaluator.evaluate(predi)\n",
    "print(\"Root-mean-square error = \" + str(rmse))\n",
    "\n",
    "modl = cvm.bestModel\n",
    "\n",
    "modl.rank\n",
    "\n",
    "(best_model\n",
    "    ._java_obj     \n",
    "    .parent()      \n",
    "    .getMaxIter()) \n",
    "\n",
    "\n",
    "# Root-mean-square error is 1.4\n"
   ]
  },
  {
   "cell_type": "code",
   "execution_count": 13,
   "metadata": {},
   "outputs": [
    {
     "name": "stdout",
     "output_type": "stream",
     "text": [
      "Root-mean-square error = 1.362570061835842\n"
     ]
    }
   ],
   "source": [
    "#final AlS\n",
    "als1 = ALS(rank=20, maxIter=20, regParam=0.3, userCol=\"userId\", itemCol=\"businessId\", ratingCol=\"rating\", \\\n",
    "               coldStartStrategy=\"drop\", seed=123)\n",
    "mdl3 = als1.fit(train)\n",
    "\n",
    "pred2 = als1.transform(test)\n",
    "evaluator = RegressionEvaluator(metricName=\"rmse\", labelCol=\"rating\", predictionCol=\"prediction\")\n",
    "rmse = evaluator.evaluate(alsb_predictions)\n",
    "print(\"Root-mean-square error = \" + str(rmse))\n"
   ]
  },
  {
   "cell_type": "code",
   "execution_count": 16,
   "metadata": {
    "collapsed": true
   },
   "outputs": [],
   "source": [
    "\n",
    "#Top 20 restaurant for Users\n",
    "Urecom = als1_model.recommendForAllUsers(20)"
   ]
  },
  {
   "cell_type": "code",
   "execution_count": null,
   "metadata": {
    "collapsed": true
   },
   "outputs": [],
   "source": [
    "#Recommendation sample\n",
    "a = Urecom.alias(\"a\")\n",
    "b = user_df1.alias(\"b\")\n",
    "    \n",
    "allrecom = a.join(b, col(\"a.userId\") == col(\"b.userId\"), 'inner') \\\n",
    "             .select([col('a.'+xx) for xx in a.columns] + [col('b.user_id')])\n",
    "\n",
    "allrecom.cache()   \n",
    "allrecom.show(1, truncate=False)"
   ]
  },
  {
   "cell_type": "code",
   "execution_count": null,
   "metadata": {
    "collapsed": true
   },
   "outputs": [],
   "source": [
    "# sShow Recommendation\n",
    "\n",
    "u_id = 'ZWD8UH1T7QXQr0Eq-mcWYg'\n",
    "\n",
    "rec =  sqlContext.createDataFrame(Urecom.filter(col('user_id') == u_id).rdd.flatMap(lambda p: p[1]))\n",
    "rec.show()"
   ]
  },
  {
   "cell_type": "code",
   "execution_count": 19,
   "metadata": {},
   "outputs": [
    {
     "data": {
      "text/html": [
       "<div>\n",
       "<style>\n",
       "    .dataframe thead tr:only-child th {\n",
       "        text-align: right;\n",
       "    }\n",
       "\n",
       "    .dataframe thead th {\n",
       "        text-align: left;\n",
       "    }\n",
       "\n",
       "    .dataframe tbody tr th {\n",
       "        vertical-align: top;\n",
       "    }\n",
       "</style>\n",
       "<table border=\"1\" class=\"dataframe\">\n",
       "  <thead>\n",
       "    <tr style=\"text-align: right;\">\n",
       "      <th></th>\n",
       "      <th>business_id</th>\n",
       "      <th>business_name</th>\n",
       "      <th>rating</th>\n",
       "      <th>categories</th>\n",
       "    </tr>\n",
       "  </thead>\n",
       "  <tbody>\n",
       "    <tr>\n",
       "      <th>0</th>\n",
       "      <td>Mglgm8rfJxZ0LLgN23YGOg</td>\n",
       "      <td>Kimchi Korea</td>\n",
       "      <td>5.207201</td>\n",
       "      <td>[Restaurants, Food, Shopping, Korean]</td>\n",
       "    </tr>\n",
       "    <tr>\n",
       "      <th>1</th>\n",
       "      <td>YwDZUnYeWyNFgBelSdE-Fw</td>\n",
       "      <td>Hatch</td>\n",
       "      <td>5.068435</td>\n",
       "      <td>[Food, Restaurants, Cafes, Coffee &amp; Tea]</td>\n",
       "    </tr>\n",
       "    <tr>\n",
       "      <th>2</th>\n",
       "      <td>otsjAjxf0PNQ99xcmuj_LA</td>\n",
       "      <td>Sushi Making For the Soul</td>\n",
       "      <td>4.950624</td>\n",
       "      <td>[Japanese, Restaurants]</td>\n",
       "    </tr>\n",
       "    <tr>\n",
       "      <th>3</th>\n",
       "      <td>v_OLzcpFA7vgVp30vxv2uQ</td>\n",
       "      <td>Silver Spoon</td>\n",
       "      <td>4.900938</td>\n",
       "      <td>[American (New), Canadian (New), Restaurants]</td>\n",
       "    </tr>\n",
       "    <tr>\n",
       "      <th>4</th>\n",
       "      <td>Pyf26htaH5h_GoKbuHTwGA</td>\n",
       "      <td>Banh Mi Ba Le</td>\n",
       "      <td>4.904104</td>\n",
       "      <td>[Vietnamese, Canadian (New), Restaurants]</td>\n",
       "    </tr>\n",
       "    <tr>\n",
       "      <th>5</th>\n",
       "      <td>2vA_jqF4XKPgWQ_h4pxRlQ</td>\n",
       "      <td>Sheli's</td>\n",
       "      <td>4.961460</td>\n",
       "      <td>[Restaurants, Sandwiches, Burgers, Chicken Wings]</td>\n",
       "    </tr>\n",
       "    <tr>\n",
       "      <th>6</th>\n",
       "      <td>n_LSGXDDApdFS9EC2WGUGw</td>\n",
       "      <td>Salerno</td>\n",
       "      <td>4.929758</td>\n",
       "      <td>[Pizza, Meat Shops, Sandwiches, Restaurants, F...</td>\n",
       "    </tr>\n",
       "    <tr>\n",
       "      <th>7</th>\n",
       "      <td>ixllnoaJuCh6gIy7Weqzmg</td>\n",
       "      <td>Porchetta Roll</td>\n",
       "      <td>5.011046</td>\n",
       "      <td>[Sandwiches, Restaurants]</td>\n",
       "    </tr>\n",
       "    <tr>\n",
       "      <th>8</th>\n",
       "      <td>B8ROl31v2PAi3Zw5oYc4Fw</td>\n",
       "      <td>Can-Cey Restaurant</td>\n",
       "      <td>5.163110</td>\n",
       "      <td>[Restaurants, Diners]</td>\n",
       "    </tr>\n",
       "    <tr>\n",
       "      <th>9</th>\n",
       "      <td>0gEPvzMBpVv6M75cdITSGg</td>\n",
       "      <td>Sushi Café Myoung Dong Soon To Fu Korea Restau...</td>\n",
       "      <td>5.117366</td>\n",
       "      <td>[Restaurants, Korean]</td>\n",
       "    </tr>\n",
       "  </tbody>\n",
       "</table>\n",
       "</div>"
      ],
      "text/plain": [
       "              business_id                                      business_name  \\\n",
       "0  Mglgm8rfJxZ0LLgN23YGOg                                       Kimchi Korea   \n",
       "1  YwDZUnYeWyNFgBelSdE-Fw                                              Hatch   \n",
       "2  otsjAjxf0PNQ99xcmuj_LA                          Sushi Making For the Soul   \n",
       "3  v_OLzcpFA7vgVp30vxv2uQ                                       Silver Spoon   \n",
       "4  Pyf26htaH5h_GoKbuHTwGA                                      Banh Mi Ba Le   \n",
       "5  2vA_jqF4XKPgWQ_h4pxRlQ                                            Sheli's   \n",
       "6  n_LSGXDDApdFS9EC2WGUGw                                            Salerno   \n",
       "7  ixllnoaJuCh6gIy7Weqzmg                                     Porchetta Roll   \n",
       "8  B8ROl31v2PAi3Zw5oYc4Fw                                 Can-Cey Restaurant   \n",
       "9  0gEPvzMBpVv6M75cdITSGg  Sushi Café Myoung Dong Soon To Fu Korea Restau...   \n",
       "\n",
       "     rating                                         categories  \n",
       "0  5.207201              [Restaurants, Food, Shopping, Korean]  \n",
       "1  5.068435           [Food, Restaurants, Cafes, Coffee & Tea]  \n",
       "2  4.950624                            [Japanese, Restaurants]  \n",
       "3  4.900938      [American (New), Canadian (New), Restaurants]  \n",
       "4  4.904104          [Vietnamese, Canadian (New), Restaurants]  \n",
       "5  4.961460  [Restaurants, Sandwiches, Burgers, Chicken Wings]  \n",
       "6  4.929758  [Pizza, Meat Shops, Sandwiches, Restaurants, F...  \n",
       "7  5.011046                          [Sandwiches, Restaurants]  \n",
       "8  5.163110                              [Restaurants, Diners]  \n",
       "9  5.117366                              [Restaurants, Korean]  "
      ]
     },
     "execution_count": 19,
     "metadata": {},
     "output_type": "execute_result"
    }
   ],
   "source": [
    "#Recommended Restaurant Details\n",
    "a = business_new_df.alias(\"a\")\n",
    "b = rec.alias(\"b\")\n",
    "\n",
    "ucolab = a.join(b, col(\"a.businessId\") == col(\"b.businessId\"), 'inner') \\\n",
    "                         .select([col('a.'+xx) for xx in a.columns] + [col('b.rating')])\n",
    "    \n",
    "ucolab.select('business_id', 'business_name', 'rating', 'categories').toPandas()"
   ]
  },
  {
   "cell_type": "code",
   "execution_count": 1,
   "metadata": {
    "collapsed": true
   },
   "outputs": [],
   "source": [
    "\n",
    "#Display Map\n",
    "def smap(df):\n",
    "    \n",
    "    mp = folium.Map(location=[38, -75], zoom_start=10)\n",
    "\n",
    "    for i, r in df.toPandas().iterrows():\n",
    "        folium.Marker(\n",
    "                    location =[r.latitude, r.longitude], \n",
    "                    popup = html.escape(r[\"business_name\"]) + '<br>' + 'Stars: ' + str(r.stars) + '<br>' + 'Reviews: ' + str(r.review_count),    \n",
    "                    icon = folium.Icon(color='red')).add_to(mp)\n",
    "\n",
    "    return mp"
   ]
  },
  {
   "cell_type": "code",
   "execution_count": 21,
   "metadata": {
    "collapsed": true
   },
   "outputs": [],
   "source": [
    "#get Recommendations\n",
    "\n",
    "def colab(u_id):\n",
    "    \n",
    "\n",
    "    rec =  sqlContext.createDataFrame(URec.filter(col('user_id') == u_id).rdd.flatMap(lambda p: p[1]))\n",
    "\n",
    "    a = rec.alias(\"a\")\n",
    "    b = business_df2.alias(\"b\")\n",
    "    \n",
    "    return a.join(b, col(\"a.businessId\") == col(\"b.businessId\"), 'inner') \\\n",
    "             .select([col('b.business_id'), col('a.rating'), col('b.business_name'),col('b.categories'),\n",
    "                                                           col('b.stars'),col('b.review_count'),\n",
    "                                                           col('b.latitude'),col('b.longitude')]) \\\n",
    "             .orderBy(\"rating\", ascending = False)"
   ]
  },
  {
   "cell_type": "code",
   "execution_count": 22,
   "metadata": {},
   "outputs": [
    {
     "data": {
      "text/html": [
       "<div>\n",
       "<style>\n",
       "    .dataframe thead tr:only-child th {\n",
       "        text-align: right;\n",
       "    }\n",
       "\n",
       "    .dataframe thead th {\n",
       "        text-align: left;\n",
       "    }\n",
       "\n",
       "    .dataframe tbody tr th {\n",
       "        vertical-align: top;\n",
       "    }\n",
       "</style>\n",
       "<table border=\"1\" class=\"dataframe\">\n",
       "  <thead>\n",
       "    <tr style=\"text-align: right;\">\n",
       "      <th></th>\n",
       "      <th>business_id</th>\n",
       "      <th>rating</th>\n",
       "      <th>business_name</th>\n",
       "      <th>categories</th>\n",
       "      <th>stars</th>\n",
       "      <th>review_count</th>\n",
       "      <th>latitude</th>\n",
       "      <th>longitude</th>\n",
       "    </tr>\n",
       "  </thead>\n",
       "  <tbody>\n",
       "    <tr>\n",
       "      <th>0</th>\n",
       "      <td>Mglgm8rfJxZ0LLgN23YGOg</td>\n",
       "      <td>5.207201</td>\n",
       "      <td>Kimchi Korea</td>\n",
       "      <td>[Restaurants, Food, Shopping, Korean]</td>\n",
       "      <td>4.5</td>\n",
       "      <td>4</td>\n",
       "      <td>43.590970</td>\n",
       "      <td>-79.598077</td>\n",
       "    </tr>\n",
       "    <tr>\n",
       "      <th>1</th>\n",
       "      <td>B8ROl31v2PAi3Zw5oYc4Fw</td>\n",
       "      <td>5.163110</td>\n",
       "      <td>Can-Cey Restaurant</td>\n",
       "      <td>[Restaurants, Diners]</td>\n",
       "      <td>4.5</td>\n",
       "      <td>3</td>\n",
       "      <td>43.737478</td>\n",
       "      <td>-79.244436</td>\n",
       "    </tr>\n",
       "    <tr>\n",
       "      <th>2</th>\n",
       "      <td>0gEPvzMBpVv6M75cdITSGg</td>\n",
       "      <td>5.117366</td>\n",
       "      <td>Sushi Café Myoung Dong Soon To Fu Korea Restau...</td>\n",
       "      <td>[Restaurants, Korean]</td>\n",
       "      <td>5.0</td>\n",
       "      <td>6</td>\n",
       "      <td>43.664527</td>\n",
       "      <td>-79.414051</td>\n",
       "    </tr>\n",
       "    <tr>\n",
       "      <th>3</th>\n",
       "      <td>YwDZUnYeWyNFgBelSdE-Fw</td>\n",
       "      <td>5.068435</td>\n",
       "      <td>Hatch</td>\n",
       "      <td>[Food, Restaurants, Cafes, Coffee &amp; Tea]</td>\n",
       "      <td>4.5</td>\n",
       "      <td>3</td>\n",
       "      <td>43.845812</td>\n",
       "      <td>-79.361602</td>\n",
       "    </tr>\n",
       "    <tr>\n",
       "      <th>4</th>\n",
       "      <td>ixllnoaJuCh6gIy7Weqzmg</td>\n",
       "      <td>5.011046</td>\n",
       "      <td>Porchetta Roll</td>\n",
       "      <td>[Sandwiches, Restaurants]</td>\n",
       "      <td>5.0</td>\n",
       "      <td>9</td>\n",
       "      <td>43.624263</td>\n",
       "      <td>-79.605990</td>\n",
       "    </tr>\n",
       "    <tr>\n",
       "      <th>5</th>\n",
       "      <td>2vA_jqF4XKPgWQ_h4pxRlQ</td>\n",
       "      <td>4.961460</td>\n",
       "      <td>Sheli's</td>\n",
       "      <td>[Restaurants, Sandwiches, Burgers, Chicken Wings]</td>\n",
       "      <td>4.0</td>\n",
       "      <td>3</td>\n",
       "      <td>43.798950</td>\n",
       "      <td>-79.446329</td>\n",
       "    </tr>\n",
       "    <tr>\n",
       "      <th>6</th>\n",
       "      <td>otsjAjxf0PNQ99xcmuj_LA</td>\n",
       "      <td>4.950624</td>\n",
       "      <td>Sushi Making For the Soul</td>\n",
       "      <td>[Japanese, Restaurants]</td>\n",
       "      <td>4.5</td>\n",
       "      <td>3</td>\n",
       "      <td>43.656233</td>\n",
       "      <td>-79.392319</td>\n",
       "    </tr>\n",
       "    <tr>\n",
       "      <th>7</th>\n",
       "      <td>n_LSGXDDApdFS9EC2WGUGw</td>\n",
       "      <td>4.929758</td>\n",
       "      <td>Salerno</td>\n",
       "      <td>[Pizza, Meat Shops, Sandwiches, Restaurants, F...</td>\n",
       "      <td>5.0</td>\n",
       "      <td>4</td>\n",
       "      <td>45.570776</td>\n",
       "      <td>-73.639838</td>\n",
       "    </tr>\n",
       "    <tr>\n",
       "      <th>8</th>\n",
       "      <td>Pyf26htaH5h_GoKbuHTwGA</td>\n",
       "      <td>4.904104</td>\n",
       "      <td>Banh Mi Ba Le</td>\n",
       "      <td>[Vietnamese, Canadian (New), Restaurants]</td>\n",
       "      <td>4.5</td>\n",
       "      <td>11</td>\n",
       "      <td>43.604056</td>\n",
       "      <td>-79.590778</td>\n",
       "    </tr>\n",
       "    <tr>\n",
       "      <th>9</th>\n",
       "      <td>v_OLzcpFA7vgVp30vxv2uQ</td>\n",
       "      <td>4.900938</td>\n",
       "      <td>Silver Spoon</td>\n",
       "      <td>[American (New), Canadian (New), Restaurants]</td>\n",
       "      <td>5.0</td>\n",
       "      <td>4</td>\n",
       "      <td>43.650883</td>\n",
       "      <td>-79.450832</td>\n",
       "    </tr>\n",
       "  </tbody>\n",
       "</table>\n",
       "</div>"
      ],
      "text/plain": [
       "              business_id    rating  \\\n",
       "0  Mglgm8rfJxZ0LLgN23YGOg  5.207201   \n",
       "1  B8ROl31v2PAi3Zw5oYc4Fw  5.163110   \n",
       "2  0gEPvzMBpVv6M75cdITSGg  5.117366   \n",
       "3  YwDZUnYeWyNFgBelSdE-Fw  5.068435   \n",
       "4  ixllnoaJuCh6gIy7Weqzmg  5.011046   \n",
       "5  2vA_jqF4XKPgWQ_h4pxRlQ  4.961460   \n",
       "6  otsjAjxf0PNQ99xcmuj_LA  4.950624   \n",
       "7  n_LSGXDDApdFS9EC2WGUGw  4.929758   \n",
       "8  Pyf26htaH5h_GoKbuHTwGA  4.904104   \n",
       "9  v_OLzcpFA7vgVp30vxv2uQ  4.900938   \n",
       "\n",
       "                                       business_name  \\\n",
       "0                                       Kimchi Korea   \n",
       "1                                 Can-Cey Restaurant   \n",
       "2  Sushi Café Myoung Dong Soon To Fu Korea Restau...   \n",
       "3                                              Hatch   \n",
       "4                                     Porchetta Roll   \n",
       "5                                            Sheli's   \n",
       "6                          Sushi Making For the Soul   \n",
       "7                                            Salerno   \n",
       "8                                      Banh Mi Ba Le   \n",
       "9                                       Silver Spoon   \n",
       "\n",
       "                                          categories  stars  review_count  \\\n",
       "0              [Restaurants, Food, Shopping, Korean]    4.5             4   \n",
       "1                              [Restaurants, Diners]    4.5             3   \n",
       "2                              [Restaurants, Korean]    5.0             6   \n",
       "3           [Food, Restaurants, Cafes, Coffee & Tea]    4.5             3   \n",
       "4                          [Sandwiches, Restaurants]    5.0             9   \n",
       "5  [Restaurants, Sandwiches, Burgers, Chicken Wings]    4.0             3   \n",
       "6                            [Japanese, Restaurants]    4.5             3   \n",
       "7  [Pizza, Meat Shops, Sandwiches, Restaurants, F...    5.0             4   \n",
       "8          [Vietnamese, Canadian (New), Restaurants]    4.5            11   \n",
       "9      [American (New), Canadian (New), Restaurants]    5.0             4   \n",
       "\n",
       "    latitude  longitude  \n",
       "0  43.590970 -79.598077  \n",
       "1  43.737478 -79.244436  \n",
       "2  43.664527 -79.414051  \n",
       "3  43.845812 -79.361602  \n",
       "4  43.624263 -79.605990  \n",
       "5  43.798950 -79.446329  \n",
       "6  43.656233 -79.392319  \n",
       "7  45.570776 -73.639838  \n",
       "8  43.604056 -79.590778  \n",
       "9  43.650883 -79.450832  "
      ]
     },
     "execution_count": 22,
     "metadata": {},
     "output_type": "execute_result"
    }
   ],
   "source": [
    "#Recommendations\n",
    "u_id = 'ZWD8UH1T7QXQr0Eq-mcWYg'\n",
    "\n",
    "colab(u_id).toPandas()"
   ]
  },
  {
   "cell_type": "code",
   "execution_count": null,
   "metadata": {
    "collapsed": true
   },
   "outputs": [],
   "source": [
    "#map\n",
    "\n",
    "import folium\n",
    "import html\n",
    "u_id = 'ZWD8UH1T7QXQr0Eq-mcWYg'\n",
    "smap(getCollabRecom(u_id))"
   ]
  }
 ],
 "metadata": {
  "kernelspec": {
   "display_name": "Python 3",
   "language": "python",
   "name": "python3"
  },
  "language_info": {
   "codemirror_mode": {
    "name": "ipython",
    "version": 3
   },
   "file_extension": ".py",
   "mimetype": "text/x-python",
   "name": "python",
   "nbconvert_exporter": "python",
   "pygments_lexer": "ipython3",
   "version": "3.6.3"
  }
 },
 "nbformat": 4,
 "nbformat_minor": 2
}
